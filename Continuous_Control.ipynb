{
 "cells": [
  {
   "cell_type": "markdown",
   "metadata": {},
   "source": [
    "# Continuous Control\n",
    "\n",
    "---\n",
    "\n",
    "![Reacher](doc/reacher.png)\n",
    "\n",
    "In this notebook, you will learn how to use the Unity ML-Agents environment for the second project of the [Deep Reinforcement Learning Nanodegree](https://www.udacity.com/course/deep-reinforcement-learning-nanodegree--nd893) program.\n",
    "\n",
    "### 1. Start the Environment\n",
    "\n",
    "Import all the dependences"
   ]
  },
  {
   "cell_type": "code",
   "execution_count": 1,
   "metadata": {
    "collapsed": true
   },
   "outputs": [],
   "source": [
    "import os\n",
    "import random\n",
    "import torch\n",
    "import numpy as np\n",
    "from collections import deque\n",
    "import matplotlib.pyplot as plt\n",
    "\n",
    "from code import Config, Agent\n",
    "from unityagents import UnityEnvironment"
   ]
  },
  {
   "cell_type": "markdown",
   "metadata": {},
   "source": [
    "Put the environment in the config path. And select the desired env: one or twenty."
   ]
  },
  {
   "cell_type": "code",
   "execution_count": 2,
   "metadata": {
    "collapsed": true
   },
   "outputs": [],
   "source": [
    "Config.SELECTED_ENV = 'twenty'\n",
    "Config.ENABLE_TRAIN = False"
   ]
  },
  {
   "cell_type": "code",
   "execution_count": 3,
   "metadata": {
    "collapsed": true
   },
   "outputs": [],
   "source": [
    "if Config.SELECTED_ENV == 'one':\n",
    "    ENV_PATH = Config.CONTINUOUS_ENV_PATH\n",
    "    CHECKPOINT_PATH = Config.CHECKPOINT_CONTINUOUS_PATH\n",
    "    MODEL_PATH = Config.MODEL_CONTINUOUS_PATH\n",
    "\n",
    "elif Config.SELECTED_ENV == 'twenty':\n",
    "    ENV_PATH = Config.CONTINUOUS_TWENTY_ENV_PATH\n",
    "    CHECKPOINT_PATH = Config.CHECKPOINT_CONTINUOUS_TWENTY_PATH\n",
    "    MODEL_PATH = Config.MODEL_CONTINUOUS_TWENTY_PATH"
   ]
  },
  {
   "cell_type": "markdown",
   "metadata": {},
   "source": [
    "Environments contain **_brains_** which are responsible for deciding the actions of their associated agents. Here we check for the first brain available, and set it as the default brain we will be controlling from Python."
   ]
  },
  {
   "cell_type": "code",
   "execution_count": null,
   "metadata": {
    "collapsed": true
   },
   "outputs": [],
   "source": [
    "env = UnityEnvironment(file_name=ENV_PATH)\n",
    "\n",
    "# get the default brain\n",
    "brain_name = env.brain_names[0]\n",
    "brain = env.brains[brain_name]"
   ]
  },
  {
   "cell_type": "markdown",
   "metadata": {},
   "source": [
    "### 2. Examine the State and Action Spaces\n",
    "\n",
    "In this environment, a double-jointed arm can move to target locations. A reward of `+0.1` is provided for each step that the agent's hand is in the goal location. Thus, the goal of your agent is to maintain its position at the target location for as many time steps as possible.\n",
    "\n",
    "The observation space consists of `33` variables corresponding to position, rotation, velocity, and angular velocities of the arm.  Each action is a vector with four numbers, corresponding to torque applicable to two joints.  Every entry in the action vector must be a number between `-1` and `1`.\n",
    "\n",
    "Run the code cell below to print some information about the environment."
   ]
  },
  {
   "cell_type": "code",
   "execution_count": null,
   "metadata": {
    "collapsed": true
   },
   "outputs": [],
   "source": [
    "# reset the environment\n",
    "env_info = env.reset(train_mode=True)[brain_name]\n",
    "\n",
    "# number of agents\n",
    "num_agents = len(env_info.agents)\n",
    "print('Number of agents:', num_agents)\n",
    "\n",
    "# size of each action\n",
    "action_size = brain.vector_action_space_size\n",
    "print('Size of each action:', action_size)\n",
    "\n",
    "# examine the state space \n",
    "states = env_info.vector_observations\n",
    "state_size = states.shape[1]\n",
    "print('There are {} agents. Each observes a state with length: {}'.format(states.shape[0], state_size))\n",
    "print('The state for the first agent looks like:', states[0])"
   ]
  },
  {
   "cell_type": "markdown",
   "metadata": {},
   "source": [
    "### 4. Define an agent\n",
    "\n",
    "Is time to define an Agent to try to solve the env. In this case, the agent allow to wrap multiple agents at the same time (20) and depends of the Config.\n",
    "\n",
    "The agent is made up of two parts:\n",
    "- Actor: Uses a neural network based on politics. This unlike A2C or A3C, has a deterministic output, which is the set of most likely actions.\n",
    "- Critic: Uses a neural network based on value function. \n",
    "\n",
    "#### 4.1 Loss\n",
    "The minimization function is composed of two parts:\n",
    "- **The critic (value-based):** must minimize an error function based on MSE. This is because we seek to be able to understand the environment and be able to predict the q (s, a). In other words: search the best combination of actions that maximize the reward.\n",
    "![Loss_critic](doc/loss_critic.png)\n",
    "\n",
    "\n",
    "\n",
    "- **The actor (policy-based):** must maximize originally the P(trajectory)·R(trajectory), that maximization produce to maximize the probability of the trajectory that has the best global rewards. In the DDPG case, we use the information of the critic to create an similar approach based in to maximize the q(s, a). In other words: search the best action in a specified state.\n",
    "![Loss_actor](doc/loss_actor.png)"
   ]
  },
  {
   "cell_type": "code",
   "execution_count": null,
   "metadata": {
    "collapsed": true
   },
   "outputs": [],
   "source": [
    "agent = Agent(num_agents=num_agents, state_size=state_size, action_size=action_size, random_seed=10)"
   ]
  },
  {
   "cell_type": "markdown",
   "metadata": {},
   "source": [
    "### 5. Training"
   ]
  },
  {
   "cell_type": "code",
   "execution_count": null,
   "metadata": {
    "collapsed": true
   },
   "outputs": [],
   "source": [
    "# ### 3. Train the Agent with DDPG\n",
    "def ddpg(n_episodes=2000, t_max=1000):\n",
    "    scores_deque = deque(maxlen=100)\n",
    "    scores = []\n",
    "    for i_episode in range(1, n_episodes + 1):\n",
    "        env_info = env.reset(train_mode=True)[brain_name]\n",
    "        states = env_info.vector_observations            \n",
    "        scores_step = np.zeros(num_agents)             \n",
    "        score = 0\n",
    "        agent.reset()\n",
    "        for step in range(t_max):\n",
    "            actions = agent.act(states)\n",
    "            env_info = env.step(actions)[brain_name]     \n",
    "            next_states = env_info.vector_observations   \n",
    "            rewards = env_info.rewards                   \n",
    "            dones = env_info.local_done                  \n",
    "            agent.step(states, actions, rewards, next_states, dones)\n",
    "            states = next_states\n",
    "            scores_step += rewards\n",
    "            if np.any(dones):\n",
    "                break\n",
    "\n",
    "        # current score\n",
    "        current_score = np.mean(scores_step)\n",
    "\n",
    "        # current score to deque and score\n",
    "        scores_deque.append(current_score)\n",
    "        scores.append(current_score) \n",
    "\n",
    "        # Mean score of window\n",
    "        mean_score = np.mean(scores_deque)\n",
    "\n",
    "        print(\"===============================================\")\n",
    "        print(\"Episode: %d\" % (i_episode, )) \n",
    "        print(\"\\t- Current Score: %f (+/- %f)\" % (current_score, np.std(scores_step)))\n",
    "        print(\"\\t- 100 Avg Score: %f (+/- %f)\" % (mean_score, np.std(scores_deque)))\n",
    "\n",
    "        if mean_score > 32:\n",
    "            print(\"Average score of 30 achieved\")   \n",
    "            os.makedirs(CHECKPOINT_PATH, exist_ok=True)\n",
    "            torch.save(agent.actor_local.state_dict(), os.path.join(CHECKPOINT_PATH, 'checkpoint_actor.pth'))\n",
    "            torch.save(agent.critic_local.state_dict(), os.path.join(CHECKPOINT_PATH, 'checkpoint_critic.pth'))        \n",
    "            break\n",
    "    return scores\n",
    "\n",
    "if Config.ENABLE_TRAIN:\n",
    "    scores = ddpg()\n",
    "\n",
    "    fig = plt.figure()\n",
    "    ax = fig.add_subplot(111)\n",
    "    plt.plot(np.arange(1, len(scores)+1), scores)\n",
    "    plt.ylabel('Score')\n",
    "    plt.xlabel('Episode #')\n",
    "    plt.show()"
   ]
  },
  {
   "cell_type": "markdown",
   "metadata": {},
   "source": [
    "### 6. Results\n",
    "For convenience, the process has been executed through a DDPG.py file, so the process graphs have been saved.\n",
    "\n",
    "#### 6.1 Twenty\n",
    "Below you can see how the reach twenty process has successfully overcome the barrier of +30 rewards:\n",
    "\n",
    "```\n",
    "Episode: 101\n",
    "        - Current Score: 37.741499 (+/- 1.063937)\n",
    "        - 100 Avg Score: 30.687429 (+/- 12.746203)\n",
    "===============================================\n",
    "Episode: 102\n",
    "        - Current Score: 37.410999 (+/- 1.434520)\n",
    "        - 100 Avg Score: 31.045569 (+/- 12.422840)\n",
    "===============================================\n",
    "Episode: 103\n",
    "        - Current Score: 37.282499 (+/- 2.229894)\n",
    "        - 100 Avg Score: 31.402674 (+/- 12.078970)\n",
    "===============================================\n",
    "Episode: 104\n",
    "        - Current Score: 37.534999 (+/- 1.354657)\n",
    "        - 100 Avg Score: 31.758544 (+/- 11.724980)\n",
    "===============================================\n",
    "Episode: 105\n",
    "        - Current Score: 38.306999 (+/- 0.967430)\n",
    "        - 100 Avg Score: 32.124954 (+/- 11.345224)\n",
    "Average score of 30 achieved\n",
    "\n",
    "```\n",
    "\n",
    "![Results Twenty](doc/project_2_twenty_reacher.png)"
   ]
  },
  {
   "cell_type": "markdown",
   "metadata": {},
   "source": [
    "### 6. Test"
   ]
  },
  {
   "cell_type": "code",
   "execution_count": null,
   "metadata": {
    "collapsed": true
   },
   "outputs": [],
   "source": [
    "# ### 4. Watch a Smart Agent!\n",
    "agent.actor_local.load_state_dict(torch.load(os.path.join(MODEL_PATH, 'checkpoint_actor.pth')))\n",
    "agent.critic_local.load_state_dict(torch.load(os.path.join(MODEL_PATH, 'checkpoint_critic.pth')))\n",
    "\n",
    "env_info = env.reset(train_mode=False)[brain_name]\n",
    "for t in range(200):\n",
    "    states = env_info.vector_observations\n",
    "    actions = agent.act(states, add_noise=False)\n",
    "    env_info = env.step(actions)[brain_name]\n",
    "    dones = env_info.local_done\n",
    "    if np.any(dones):\n",
    "        break "
   ]
  }
 ],
 "metadata": {
  "kernelspec": {
   "display_name": "Python [conda env:drlnd]",
   "language": "python",
   "name": "conda-env-drlnd-py"
  },
  "language_info": {
   "codemirror_mode": {
    "name": "ipython",
    "version": 3
   },
   "file_extension": ".py",
   "mimetype": "text/x-python",
   "name": "python",
   "nbconvert_exporter": "python",
   "pygments_lexer": "ipython3",
   "version": "3.6.8"
  }
 },
 "nbformat": 4,
 "nbformat_minor": 2
}
